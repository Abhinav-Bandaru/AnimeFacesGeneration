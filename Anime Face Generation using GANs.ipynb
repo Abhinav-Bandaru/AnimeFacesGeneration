{
 "cells": [
  {
   "cell_type": "markdown",
   "id": "13f33ea4",
   "metadata": {},
   "source": [
    "## Importing the Libraries"
   ]
  },
  {
   "cell_type": "code",
   "execution_count": 1,
   "id": "75e15218",
   "metadata": {},
   "outputs": [],
   "source": [
    "from keras.datasets import mnist\n",
    "from keras.layers import Input, Reshape, Flatten, Dense\n",
    "from keras.layers import BatchNormalization\n",
    "from keras.layers import LeakyReLU\n",
    "from keras.models import Sequential, Model\n",
    "from keras.optimizers import Adam\n",
    "import matplotlib.pyplot as plt\n",
    "import numpy as np\n",
    "import cv2\n",
    "import os\n",
    "import sys\n",
    "%matplotlib inline"
   ]
  },
  {
   "cell_type": "code",
   "execution_count": 2,
   "id": "a2db9ea5",
   "metadata": {},
   "outputs": [
    {
     "data": {
      "image/png": "[encoded data removed]",
      "text/plain": [
       "<Figure size 432x288 with 1 Axes>"
      ]
     },
     "metadata": {
      "needs_background": "light"
     },
     "output_type": "display_data"
    }
   ],
   "source": [
    "path = 'D:/Sonu/MINE/Mmmm..Personal/Datasets/Anime Face Generation using GANs/images'\n",
    "dataset = []\n",
    "for item in os.listdir(path):\n",
    "    img = cv2.imread(os.path.join(path, item))\n",
    "    imgplot = plt.imshow(img)\n",
    "    break"
   ]
  },
  {
   "cell_type": "markdown",
   "id": "d8549b21",
   "metadata": {},
   "source": [
    "## Loading in the Data"
   ]
  },
  {
   "cell_type": "code",
   "execution_count": 3,
   "id": "eedc2f84",
   "metadata": {},
   "outputs": [
    {
     "name": "stdout",
     "output_type": "stream",
     "text": [
      "63565\n",
      "64\n"
     ]
    }
   ],
   "source": [
    "path = 'D:/Sonu/MINE/Mmmm..Personal/Datasets/Anime Face Generation using GANs/images'\n",
    "dataset = []\n",
    "for item in os.listdir(path):\n",
    "    img = cv2.imread(os.path.join(path, item))\n",
    "    img = cv2.resize(img, (64, 64))\n",
    "    dataset.append(img)\n",
    "print(len(dataset))\n",
    "print(len(dataset[0]))"
   ]
  },
  {
   "cell_type": "code",
   "execution_count": 4,
   "id": "a69d889c",
   "metadata": {},
   "outputs": [],
   "source": [
    "img_rows = 64\n",
    "img_cols = 64\n",
    "channels = 3\n",
    "img_shape = (img_rows, img_cols, channels)"
   ]
  },
  {
   "cell_type": "code",
   "execution_count": 5,
   "id": "244599ca",
   "metadata": {},
   "outputs": [],
   "source": [
    "def build_generator():\n",
    "    \n",
    "    noise_shape = (12288,)\n",
    "    \n",
    "    model = Sequential()\n",
    "    model.add(Dense(256, input_shape = noise_shape))\n",
    "    model.add(LeakyReLU(alpha = 0.2))\n",
    "    model.add(BatchNormalization(momentum = 0.8))\n",
    "    \n",
    "    model.add(Dense(512))\n",
    "    model.add(LeakyReLU(alpha = 0.2))\n",
    "    model.add(BatchNormalization(momentum = 0.8))\n",
    "    \n",
    "    model.add(Dense(1024))\n",
    "    model.add(LeakyReLU(alpha = 0.2))\n",
    "    model.add(BatchNormalization(momentum = 0.8))\n",
    "    \n",
    "    model.add(Dense(np.prod(img_shape), activation = 'tanh'))\n",
    "    model.add(Reshape(img_shape))\n",
    "    \n",
    "    model.summary()\n",
    "    \n",
    "    noise = Input(shape = noise_shape)\n",
    "    generated_img = model(noise)\n",
    "    \n",
    "    return Model(noise, generated_img)"
   ]
  },
  {
   "cell_type": "code",
   "execution_count": 6,
   "id": "a6090ae7",
   "metadata": {},
   "outputs": [],
   "source": [
    "def build_discriminator():\n",
    "    \n",
    "    model = Sequential()\n",
    "    \n",
    "    model.add(Flatten(input_shape = img_shape))\n",
    "    model.add(Dense(512))\n",
    "    model.add(LeakyReLU(alpha = 0.2))\n",
    "    model.add(Dense(256))\n",
    "    model.add(LeakyReLU(alpha = 0.2))\n",
    "    model.add(Dense(1, activation = 'sigmoid'))\n",
    "    model.summary()\n",
    "    \n",
    "    img = Input(shape = img_shape)\n",
    "    validity = model(img)\n",
    "    \n",
    "    return Model(img, validity)"
   ]
  },
  {
   "cell_type": "code",
   "execution_count": 7,
   "id": "649bbe0b",
   "metadata": {},
   "outputs": [],
   "source": [
    "def scale(x):\n",
    "    return (x-127.5)/127.5\n",
    "\n",
    "def train(epochs, batch_size = 128, save_interval = 500):\n",
    "    \n",
    "#     (X_train, _), (_, _) = mnist.load_data()\n",
    "    data = tuple(dataset)\n",
    "#     X_train = (data - 127.5) / 127.5    #Rescaling to -1 to 1.......-255/255 if between [0,1]\n",
    "    scaled_data = map(scale, data)\n",
    "#     X_train = np.expand_dims(scaled_data, axis = 3)\n",
    "    half_batch = int(batch_size / 2)\n",
    "    \n",
    "    for epoch in range(epochs):\n",
    "        \n",
    "        #Training the Discriminator\n",
    "        \n",
    "#         idx = np.random.randint(0, np.array(scaled_data).shape[0], half_batch)\n",
    "        idx = np.random.randint(0, 63565, half_batch)\n",
    "        imgs = np.array(list(scaled_data))[idx]\n",
    "        noise = np.random.normal(0, 1, (half_batch, 12288))\n",
    "        \n",
    "        gen_imgs = generator.predict(noise)\n",
    "        \n",
    "        d_loss_real = discriminator.train_on_batch(imgs, np.ones((half_batch, 1)))\n",
    "        d_loss_fake = discriminator.train_on_batch(gen_imgs, np.zeros((half_batch, 1)))\n",
    "        \n",
    "        d_loss = 0.5 * np.add(d_loss_real, d_loss_fake)\n",
    "        \n",
    "        \n",
    "        #Training the Generator\n",
    "        \n",
    "        noise = np.random.normal(0, 1, (batch_size, 12288))\n",
    "        valid_y = np.array([1]*batch_size)\n",
    "        g_loss = combined.train_on_batch(noise, valid_y)\n",
    "        \n",
    "        \n",
    "        # Progress\n",
    "        \n",
    "        print(\"%d [D loss: %f, acc.: %.2f%%] [G loss: %f]\" % (epoch, d_loss[0], 100*d_loss[1], g_loss))\n",
    "        if epoch%save_interval == 0:\n",
    "            save_imgs(epoch)\n",
    "\n",
    "        \n",
    "def save_imgs(epoch):\n",
    "    r, c = 5, 5\n",
    "    noise = np.random.normal(0, 1, (r*c, 12288))\n",
    "    gen_imgs = generator.predict(noise)\n",
    "    \n",
    "    # Rescale images 0-1\n",
    "    gen_imgs = 0.5*gen_imgs + 0.5\n",
    "    \n",
    "    fig, axs = plt.subplots(r, c)\n",
    "    cnt = 0\n",
    "    \n",
    "    for i in range(r):\n",
    "        for j in range(c):\n",
    "            axs[i,j].imshow(gen_imgs[cnt, :, :, 0], cmap = 'gray')\n",
    "            axs[i,j].axis('off')\n",
    "            cnt+=1\n",
    "    fig.savefig(\"Uwu_images/mnist_%d.png\" % epoch)\n",
    "    plt.close()"
   ]
  },
  {
   "cell_type": "code",
   "execution_count": 8,
   "id": "e899d956",
   "metadata": {},
   "outputs": [],
   "source": [
    "# temp=map(scale,dataset[0])\n",
    "# list(temp)"
   ]
  },
  {
   "cell_type": "code",
   "execution_count": 10,
   "id": "8c89c21a",
   "metadata": {
    "scrolled": true
   },
   "outputs": [
    {
     "name": "stdout",
     "output_type": "stream",
     "text": [
      "Model: \"sequential_2\"\n",
      "_________________________________________________________________\n",
      " Layer (type)                Output Shape              Param #   \n",
      "=================================================================\n",
      " flatten_1 (Flatten)         (None, 12288)             0         \n",
      "                                                                 \n",
      " dense_7 (Dense)             (None, 512)               6291968   \n",
      "                                                                 \n",
      " leaky_re_lu_5 (LeakyReLU)   (None, 512)               0         \n",
      "                                                                 \n",
      " dense_8 (Dense)             (None, 256)               131328    \n",
      "                                                                 \n",
      " leaky_re_lu_6 (LeakyReLU)   (None, 256)               0         \n",
      "                                                                 \n",
      " dense_9 (Dense)             (None, 1)                 257       \n",
      "                                                                 \n",
      "=================================================================\n",
      "Total params: 6,423,553\n",
      "Trainable params: 6,423,553\n",
      "Non-trainable params: 0\n",
      "_________________________________________________________________\n",
      "Model: \"sequential_3\"\n",
      "_________________________________________________________________\n",
      " Layer (type)                Output Shape              Param #   \n",
      "=================================================================\n",
      " dense_10 (Dense)            (None, 256)               3145984   \n",
      "                                                                 \n",
      " leaky_re_lu_7 (LeakyReLU)   (None, 256)               0         \n",
      "                                                                 \n",
      " batch_normalization_3 (Batc  (None, 256)              1024      \n",
      " hNormalization)                                                 \n",
      "                                                                 \n",
      " dense_11 (Dense)            (None, 512)               131584    \n",
      "                                                                 \n",
      " leaky_re_lu_8 (LeakyReLU)   (None, 512)               0         \n",
      "                                                                 \n",
      " batch_normalization_4 (Batc  (None, 512)              2048      \n",
      " hNormalization)                                                 \n",
      "                                                                 \n",
      " dense_12 (Dense)            (None, 1024)              525312    \n",
      "                                                                 \n",
      " leaky_re_lu_9 (LeakyReLU)   (None, 1024)              0         \n",
      "                                                                 \n",
      " batch_normalization_5 (Batc  (None, 1024)             4096      \n",
      " hNormalization)                                                 \n",
      "                                                                 \n",
      " dense_13 (Dense)            (None, 12288)             12595200  \n",
      "                                                                 \n",
      " reshape_1 (Reshape)         (None, 64, 64, 3)         0         \n",
      "                                                                 \n",
      "=================================================================\n",
      "Total params: 16,405,248\n",
      "Trainable params: 16,401,664\n",
      "Non-trainable params: 3,584\n",
      "_________________________________________________________________\n",
      "1/1 [==============================] - 0s 284ms/step\n",
      "0 [D loss: 0.723756, acc.: 37.50%] [G loss: 0.571846]\n",
      "1/1 [==============================] - 0s 21ms/step\n"
     ]
    },
    {
     "ename": "IndexError",
     "evalue": "index 15390 is out of bounds for axis 0 with size 0",
     "output_type": "error",
     "traceback": [
      "\u001b[1;31m---------------------------------------------------------------------------\u001b[0m",
      "\u001b[1;31mIndexError\u001b[0m                                Traceback (most recent call last)",
      "Input \u001b[1;32mIn [10]\u001b[0m, in \u001b[0;36m<cell line: 20>\u001b[1;34m()\u001b[0m\n\u001b[0;32m     17\u001b[0m combined \u001b[38;5;241m=\u001b[39m Model(z, valid)\n\u001b[0;32m     18\u001b[0m combined\u001b[38;5;241m.\u001b[39mcompile(loss \u001b[38;5;241m=\u001b[39m \u001b[38;5;124m'\u001b[39m\u001b[38;5;124mbinary_crossentropy\u001b[39m\u001b[38;5;124m'\u001b[39m, optimizer \u001b[38;5;241m=\u001b[39m optimizer)\n\u001b[1;32m---> 20\u001b[0m \u001b[43mtrain\u001b[49m\u001b[43m(\u001b[49m\u001b[43mepochs\u001b[49m\u001b[43m \u001b[49m\u001b[38;5;241;43m=\u001b[39;49m\u001b[43m \u001b[49m\u001b[38;5;241;43m10000\u001b[39;49m\u001b[43m,\u001b[49m\u001b[43m \u001b[49m\u001b[43mbatch_size\u001b[49m\u001b[43m \u001b[49m\u001b[38;5;241;43m=\u001b[39;49m\u001b[43m \u001b[49m\u001b[38;5;241;43m32\u001b[39;49m\u001b[43m,\u001b[49m\u001b[43m \u001b[49m\u001b[43msave_interval\u001b[49m\u001b[43m \u001b[49m\u001b[38;5;241;43m=\u001b[39;49m\u001b[43m \u001b[49m\u001b[38;5;241;43m1000\u001b[39;49m\u001b[43m)\u001b[49m\n\u001b[0;32m     22\u001b[0m generator\u001b[38;5;241m.\u001b[39msave(\u001b[38;5;124m'\u001b[39m\u001b[38;5;124mAnime_uwu.h5\u001b[39m\u001b[38;5;124m'\u001b[39m)\n",
      "Input \u001b[1;32mIn [7]\u001b[0m, in \u001b[0;36mtrain\u001b[1;34m(epochs, batch_size, save_interval)\u001b[0m\n\u001b[0;32m     13\u001b[0m     \u001b[38;5;28;01mfor\u001b[39;00m epoch \u001b[38;5;129;01min\u001b[39;00m \u001b[38;5;28mrange\u001b[39m(epochs):\n\u001b[0;32m     14\u001b[0m         \n\u001b[0;32m     15\u001b[0m         \u001b[38;5;66;03m#Training the Discriminator\u001b[39;00m\n\u001b[0;32m     16\u001b[0m         \n\u001b[0;32m     17\u001b[0m \u001b[38;5;66;03m#         idx = np.random.randint(0, np.array(scaled_data).shape[0], half_batch)\u001b[39;00m\n\u001b[0;32m     18\u001b[0m         idx \u001b[38;5;241m=\u001b[39m np\u001b[38;5;241m.\u001b[39mrandom\u001b[38;5;241m.\u001b[39mrandint(\u001b[38;5;241m0\u001b[39m, \u001b[38;5;241m63565\u001b[39m, half_batch)\n\u001b[1;32m---> 19\u001b[0m         imgs \u001b[38;5;241m=\u001b[39m \u001b[43mnp\u001b[49m\u001b[38;5;241;43m.\u001b[39;49m\u001b[43marray\u001b[49m\u001b[43m(\u001b[49m\u001b[38;5;28;43mlist\u001b[39;49m\u001b[43m(\u001b[49m\u001b[43mscaled_data\u001b[49m\u001b[43m)\u001b[49m\u001b[43m)\u001b[49m\u001b[43m[\u001b[49m\u001b[43midx\u001b[49m\u001b[43m]\u001b[49m\n\u001b[0;32m     20\u001b[0m         noise \u001b[38;5;241m=\u001b[39m np\u001b[38;5;241m.\u001b[39mrandom\u001b[38;5;241m.\u001b[39mnormal(\u001b[38;5;241m0\u001b[39m, \u001b[38;5;241m1\u001b[39m, (half_batch, \u001b[38;5;241m12288\u001b[39m))\n\u001b[0;32m     22\u001b[0m         gen_imgs \u001b[38;5;241m=\u001b[39m generator\u001b[38;5;241m.\u001b[39mpredict(noise)\n",
      "\u001b[1;31mIndexError\u001b[0m: index 15390 is out of bounds for axis 0 with size 0"
     ]
    }
   ],
   "source": [
    "optimizer = Adam(0.0002, 0.5)\n",
    "\n",
    "discriminator = build_discriminator()\n",
    "discriminator.compile(loss = 'binary_crossentropy', optimizer = optimizer, metrics = ['accuracy'])\n",
    "\n",
    "generator = build_generator()\n",
    "generator.compile(loss = 'binary_crossentropy', optimizer = optimizer)\n",
    "\n",
    "z = Input(shape = (12288,))\n",
    "img = generator(z)\n",
    "\n",
    "discriminator.trainable = False\n",
    "\n",
    "valid = discriminator(img)\n",
    "\n",
    "\n",
    "combined = Model(z, valid)\n",
    "combined.compile(loss = 'binary_crossentropy', optimizer = optimizer)\n",
    "\n",
    "train(epochs = 10000, batch_size = 32, save_interval = 1000)\n",
    "\n",
    "generator.save('Anime_uwu.h5')"
   ]
  },
  {
   "cell_type": "code",
   "execution_count": null,
   "id": "c6fc350a",
   "metadata": {},
   "outputs": [],
   "source": []
  }
 ],
 "metadata": {
  "kernelspec": {
   "display_name": "Python 3 (ipykernel)",
   "language": "python",
   "name": "python3"
  },
  "language_info": {
   "codemirror_mode": {
    "name": "ipython",
    "version": 3
   },
   "file_extension": ".py",
   "mimetype": "text/x-python",
   "name": "python",
   "nbconvert_exporter": "python",
   "pygments_lexer": "ipython3",
   "version": "3.9.12"
  }
 },
 "nbformat": 4,
 "nbformat_minor": 5
}
